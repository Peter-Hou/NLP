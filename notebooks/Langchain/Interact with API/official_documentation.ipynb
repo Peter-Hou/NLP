{
 "cells": [
  {
   "attachments": {},
   "cell_type": "markdown",
   "metadata": {},
   "source": [
    "# ReadMe\n",
    "If any code is not running, try re-install\n",
    "```\n",
    "langchain==0.0.316\n",
    "openai==0.28.1\n",
    "```\n",
    "\n",
    "Documentation link: https://python.langchain.com/docs/use_cases/apis/"
   ]
  },
  {
   "cell_type": "code",
   "execution_count": 1,
   "metadata": {},
   "outputs": [
    {
     "data": {
      "text/plain": [
       "True"
      ]
     },
     "execution_count": 1,
     "metadata": {},
     "output_type": "execute_result"
    }
   ],
   "source": [
    "from dotenv import load_dotenv\n",
    "import os\n",
    "\n",
    "load_dotenv('.env', override=True)"
   ]
  },
  {
   "cell_type": "code",
   "execution_count": 2,
   "metadata": {},
   "outputs": [
    {
     "name": "stderr",
     "output_type": "stream",
     "text": [
      "Attempting to load an OpenAPI 3.0.1 spec.  This may result in degraded performance. Convert your OpenAPI spec to 3.1.* spec for better support.\n"
     ]
    },
    {
     "data": {
      "text/plain": [
       "{'query': \"What are some options for a men's large blue button down shirt\",\n",
       " 'response': {'products': [{'name': 'Izod Saltwater Big and Tall Mens Classic Fit Short Sleeve Button-Down Shirt, 3x-large, Blue Blue',\n",
       "    'url': 'https://www.klarna.com/us/shopping/pl/cl10001/3263742310/Clothing/Izod-Saltwater-Big-and-Tall-Mens-Classic-Fit-Short-Sleeve-Button-Down-Shirt-3x-large-Blue-Blue/?utm_source=openai&ref-site=openai_plugin',\n",
       "    'price': '$33.74',\n",
       "    'attributes': ['Target Group:Man', 'Color:Blue']},\n",
       "   {'name': \"Izod Men's Saltwater Dockside Printed Chambray Button-Down Shirt, Large, Blue\",\n",
       "    'url': 'https://www.klarna.com/us/shopping/pl/cl10001/3257202629/Clothing/Izod-Men-s-Saltwater-Dockside-Printed-Chambray-Button-Down-Shirt-Large-Blue/?utm_source=openai&ref-site=openai_plugin',\n",
       "    'price': '$29.99',\n",
       "    'attributes': ['Target Group:Man',\n",
       "     'Color:Blue',\n",
       "     'Size (Small-Large):S,XL,L,M,XXL']},\n",
       "   {'name': 'Cubavera Mens Classic Fit Short Sleeve Button-Down Shirt, X-large, Blue Blue',\n",
       "    'url': 'https://www.klarna.com/us/shopping/pl/cl10001/3262177389/Clothing/Cubavera-Mens-Classic-Fit-Short-Sleeve-Button-Down-Shirt-X-large-Blue-Blue/?utm_source=openai&ref-site=openai_plugin',\n",
       "    'price': '$39.99',\n",
       "    'attributes': ['Material:Linen',\n",
       "     'Target Group:Man',\n",
       "     'Color:Blue',\n",
       "     'Size (Small-Large):S,XL,L,M']},\n",
       "   {'name': 'Cubavera Mens Classic Fit Short Sleeve Button-Down Shirt, X-large, Blue Blue',\n",
       "    'url': 'https://www.klarna.com/us/shopping/pl/cl10001/3264700509/Clothing/Cubavera-Mens-Classic-Fit-Short-Sleeve-Button-Down-Shirt-X-large-Blue-Blue/?utm_source=openai&ref-site=openai_plugin',\n",
       "    'price': '$39.99',\n",
       "    'attributes': ['Target Group:Man',\n",
       "     'Color:Titanium',\n",
       "     'Size (Small-Large):S,XL,L,M,XXL']},\n",
       "   {'name': \"Levi's Mens Classic Fit Short Sleeve Button-Down Shirt, X-large, Blue Blue\",\n",
       "    'url': 'https://www.klarna.com/us/shopping/pl/cl10001/3276288769/Clothing/Levi-s-Mens-Classic-Fit-Short-Sleeve-Button-Down-Shirt-X-large-Blue-Blue/?utm_source=openai&ref-site=openai_plugin',\n",
       "    'price': '$44.99',\n",
       "    'attributes': ['Material:Cotton',\n",
       "     'Target Group:Man',\n",
       "     'Color:Blue',\n",
       "     'Size (Small-Large):S,XL,3XL,L,M,XXL']}]}}"
      ]
     },
     "execution_count": 2,
     "metadata": {},
     "output_type": "execute_result"
    }
   ],
   "source": [
    "from langchain.chains.openai_functions.openapi import get_openapi_chain\n",
    "\n",
    "chain = get_openapi_chain(\n",
    "    \"https://www.klarna.com/us/shopping/public/openai/v0/api-docs/\"\n",
    ")\n",
    "chain(\"What are some options for a men's large blue button down shirt\")"
   ]
  },
  {
   "cell_type": "code",
   "execution_count": 3,
   "metadata": {},
   "outputs": [
    {
     "name": "stdout",
     "output_type": "stream",
     "text": [
      "BASE URL: https://api.open-meteo.com/\n",
      "\n",
      "API Documentation\n",
      "The API endpoint /v1/forecast accepts a geographical coordinate, a list of weather variables and responds with a JSON hourly weather forecast for 7 days. Time always starts at 0:00 today and contains 168 hours. All URL parameters are listed below:\n",
      "\n",
      "Parameter\tFormat\tRequired\tDefault\tDescription\n",
      "latitude, longitude\tFloating point\tYes\t\tGeographical WGS84 coordinate of the location\n",
      "hourly\tString array\tNo\t\tA list of weather variables which should be returned. Values can be comma separated, or multiple &hourly= parameter in the URL can be used.\n",
      "daily\tString array\tNo\t\tA list of daily weather variable aggregations which should be returned. Values can be comma separated, or multiple &daily= parameter in the URL can be used. If daily weather variables are specified, parameter timezone is required.\n",
      "current_weather\tBool\tNo\tfalse\tInclude current weather conditions in the JSON output.\n",
      "temperature_unit\tString\tNo\tcelsius\tIf fahrenheit is set, all temperature values are converted to Fahrenheit.\n",
      "windspeed_unit\tString\tNo\tkmh\tOther wind speed speed units: ms, mph and kn\n",
      "precipitation_unit\tString\tNo\tmm\tOther precipitation amount units: inch\n",
      "timeformat\tString\tNo\tiso8601\tIf format unixtime is selected, all time values are returned in UNIX epoch time in seconds. Please note that all timestamp are in GMT+0! For daily values with unix timestamps, please apply utc_offset_seconds again to get the correct date.\n",
      "timezone\tString\tNo\tGMT\tIf timezone is set, all timestamps are returned as local-time and data is returned starting at 00:00 local-time. Any time zone name from the time zone database is supported. If auto is set as a time zone, the coordinates will be automatically resolved to the local time zone.\n",
      "past_days\tInteger (0-2)\tNo\t0\tIf past_days is set, yesterday or the day before yesterday data are also returned.\n",
      "start_date\n",
      "end_date\tString (yyyy-mm-dd)\tNo\t\tThe time interval to get weather data. A day must be specified as an ISO8601 date (e.g. 2022-06-30).\n",
      "models\tString array\tNo\tauto\tManually select one or more weather models. Per default, the best suitable weather models will be combined.\n",
      "\n",
      "Hourly Parameter Definition\n",
      "The parameter &hourly= accepts the following values. Most weather variables are given as an instantaneous value for the indicated hour. Some variables like precipitation are calculated from the preceding hour as an average or sum.\n",
      "\n",
      "Variable\tValid time\tUnit\tDescription\n",
      "temperature_2m\tInstant\t°C (°F)\tAir temperature at 2 meters above ground\n",
      "snowfall\tPreceding hour sum\tcm (inch)\tSnowfall amount of the preceding hour in centimeters. For the water equivalent in millimeter, divide by 7. E.g. 7 cm snow = 10 mm precipitation water equivalent\n",
      "rain\tPreceding hour sum\tmm (inch)\tRain from large scale weather systems of the preceding hour in millimeter\n",
      "showers\tPreceding hour sum\tmm (inch)\tShowers from convective precipitation in millimeters from the preceding hour\n",
      "weathercode\tInstant\tWMO code\tWeather condition as a numeric code. Follow WMO weather interpretation codes. See table below for details.\n",
      "snow_depth\tInstant\tmeters\tSnow depth on the ground\n",
      "freezinglevel_height\tInstant\tmeters\tAltitude above sea level of the 0°C level\n",
      "visibility\tInstant\tmeters\tViewing distance in meters. Influenced by low clouds, humidity and aerosols. Maximum visibility is approximately 24 km.\n"
     ]
    }
   ],
   "source": [
    "from langchain.chains.api import open_meteo_docs\n",
    "print(open_meteo_docs.OPEN_METEO_DOCS)"
   ]
  },
  {
   "cell_type": "code",
   "execution_count": 6,
   "metadata": {},
   "outputs": [
    {
     "name": "stdout",
     "output_type": "stream",
     "text": [
      "\n",
      "\n",
      "\u001b[1m> Entering new APIChain chain...\u001b[0m\n",
      "\u001b[32;1m\u001b[1;3m https://api.open-meteo.com/v1/forecast?latitude=48.1351&longitude=11.5820&hourly=temperature_2m&current_weather=true&temperature_unit=fahrenheit&timezone=auto\u001b[0m\n",
      "\u001b[33;1m\u001b[1;3m{\"latitude\":48.14,\"longitude\":11.58,\"generationtime_ms\":0.0959634780883789,\"utc_offset_seconds\":7200,\"timezone\":\"Europe/Berlin\",\"timezone_abbreviation\":\"CEST\",\"elevation\":521.0,\"current_weather_units\":{\"time\":\"iso8601\",\"interval\":\"seconds\",\"temperature\":\"°F\",\"windspeed\":\"km/h\",\"winddirection\":\"°\",\"is_day\":\"\",\"weathercode\":\"wmo code\"},\"current_weather\":{\"time\":\"2024-04-15T20:45\",\"interval\":900,\"temperature\":56.9,\"windspeed\":13.7,\"winddirection\":256,\"is_day\":0,\"weathercode\":2},\"hourly_units\":{\"time\":\"iso8601\",\"temperature_2m\":\"°F\"},\"hourly\":{\"time\":[\"2024-04-15T00:00\",\"2024-04-15T01:00\",\"2024-04-15T02:00\",\"2024-04-15T03:00\",\"2024-04-15T04:00\",\"2024-04-15T05:00\",\"2024-04-15T06:00\",\"2024-04-15T07:00\",\"2024-04-15T08:00\",\"2024-04-15T09:00\",\"2024-04-15T10:00\",\"2024-04-15T11:00\",\"2024-04-15T12:00\",\"2024-04-15T13:00\",\"2024-04-15T14:00\",\"2024-04-15T15:00\",\"2024-04-15T16:00\",\"2024-04-15T17:00\",\"2024-04-15T18:00\",\"2024-04-15T19:00\",\"2024-04-15T20:00\",\"2024-04-15T21:00\",\"2024-04-15T22:00\",\"2024-04-15T23:00\",\"2024-04-16T00:00\",\"2024-04-16T01:00\",\"2024-04-16T02:00\",\"2024-04-16T03:00\",\"2024-04-16T04:00\",\"2024-04-16T05:00\",\"2024-04-16T06:00\",\"2024-04-16T07:00\",\"2024-04-16T08:00\",\"2024-04-16T09:00\",\"2024-04-16T10:00\",\"2024-04-16T11:00\",\"2024-04-16T12:00\",\"2024-04-16T13:00\",\"2024-04-16T14:00\",\"2024-04-16T15:00\",\"2024-04-16T16:00\",\"2024-04-16T17:00\",\"2024-04-16T18:00\",\"2024-04-16T19:00\",\"2024-04-16T20:00\",\"2024-04-16T21:00\",\"2024-04-16T22:00\",\"2024-04-16T23:00\",\"2024-04-17T00:00\",\"2024-04-17T01:00\",\"2024-04-17T02:00\",\"2024-04-17T03:00\",\"2024-04-17T04:00\",\"2024-04-17T05:00\",\"2024-04-17T06:00\",\"2024-04-17T07:00\",\"2024-04-17T08:00\",\"2024-04-17T09:00\",\"2024-04-17T10:00\",\"2024-04-17T11:00\",\"2024-04-17T12:00\",\"2024-04-17T13:00\",\"2024-04-17T14:00\",\"2024-04-17T15:00\",\"2024-04-17T16:00\",\"2024-04-17T17:00\",\"2024-04-17T18:00\",\"2024-04-17T19:00\",\"2024-04-17T20:00\",\"2024-04-17T21:00\",\"2024-04-17T22:00\",\"2024-04-17T23:00\",\"2024-04-18T00:00\",\"2024-04-18T01:00\",\"2024-04-18T02:00\",\"2024-04-18T03:00\",\"2024-04-18T04:00\",\"2024-04-18T05:00\",\"2024-04-18T06:00\",\"2024-04-18T07:00\",\"2024-04-18T08:00\",\"2024-04-18T09:00\",\"2024-04-18T10:00\",\"2024-04-18T11:00\",\"2024-04-18T12:00\",\"2024-04-18T13:00\",\"2024-04-18T14:00\",\"2024-04-18T15:00\",\"2024-04-18T16:00\",\"2024-04-18T17:00\",\"2024-04-18T18:00\",\"2024-04-18T19:00\",\"2024-04-18T20:00\",\"2024-04-18T21:00\",\"2024-04-18T22:00\",\"2024-04-18T23:00\",\"2024-04-19T00:00\",\"2024-04-19T01:00\",\"2024-04-19T02:00\",\"2024-04-19T03:00\",\"2024-04-19T04:00\",\"2024-04-19T05:00\",\"2024-04-19T06:00\",\"2024-04-19T07:00\",\"2024-04-19T08:00\",\"2024-04-19T09:00\",\"2024-04-19T10:00\",\"2024-04-19T11:00\",\"2024-04-19T12:00\",\"2024-04-19T13:00\",\"2024-04-19T14:00\",\"2024-04-19T15:00\",\"2024-04-19T16:00\",\"2024-04-19T17:00\",\"2024-04-19T18:00\",\"2024-04-19T19:00\",\"2024-04-19T20:00\",\"2024-04-19T21:00\",\"2024-04-19T22:00\",\"2024-04-19T23:00\",\"2024-04-20T00:00\",\"2024-04-20T01:00\",\"2024-04-20T02:00\",\"2024-04-20T03:00\",\"2024-04-20T04:00\",\"2024-04-20T05:00\",\"2024-04-20T06:00\",\"2024-04-20T07:00\",\"2024-04-20T08:00\",\"2024-04-20T09:00\",\"2024-04-20T10:00\",\"2024-04-20T11:00\",\"2024-04-20T12:00\",\"2024-04-20T13:00\",\"2024-04-20T14:00\",\"2024-04-20T15:00\",\"2024-04-20T16:00\",\"2024-04-20T17:00\",\"2024-04-20T18:00\",\"2024-04-20T19:00\",\"2024-04-20T20:00\",\"2024-04-20T21:00\",\"2024-04-20T22:00\",\"2024-04-20T23:00\",\"2024-04-21T00:00\",\"2024-04-21T01:00\",\"2024-04-21T02:00\",\"2024-04-21T03:00\",\"2024-04-21T04:00\",\"2024-04-21T05:00\",\"2024-04-21T06:00\",\"2024-04-21T07:00\",\"2024-04-21T08:00\",\"2024-04-21T09:00\",\"2024-04-21T10:00\",\"2024-04-21T11:00\",\"2024-04-21T12:00\",\"2024-04-21T13:00\",\"2024-04-21T14:00\",\"2024-04-21T15:00\",\"2024-04-21T16:00\",\"2024-04-21T17:00\",\"2024-04-21T18:00\",\"2024-04-21T19:00\",\"2024-04-21T20:00\",\"2024-04-21T21:00\",\"2024-04-21T22:00\",\"2024-04-21T23:00\"],\"temperature_2m\":[55.9,56.8,53.9,54.6,56.1,56.7,57.3,56.1,55.9,57.3,58.6,56.9,56.6,54.7,54.8,56.8,58.1,58.3,59.7,59.9,58.8,56.5,55.6,53.7,52.0,42.6,40.8,40.2,39.1,37.5,37.7,38.0,39.3,40.7,42.0,45.5,45.3,47.1,49.8,49.1,50.7,51.1,50.2,48.9,46.6,44.9,43.2,42.0,41.8,41.2,41.6,41.4,41.0,40.6,40.1,39.8,40.0,40.0,41.1,42.9,41.7,41.6,42.6,43.2,42.4,42.5,40.4,39.7,38.7,37.8,37.0,37.0,37.3,37.5,37.3,37.1,36.7,36.6,36.6,36.3,37.3,37.2,36.6,37.0,38.8,40.9,42.2,43.2,44.4,44.4,43.3,42.9,41.8,40.6,39.2,38.2,37.5,37.1,36.7,36.3,35.9,35.8,35.9,36.2,37.3,39.6,42.7,45.2,46.6,47.5,47.9,47.5,46.6,45.4,43.7,41.8,40.3,39.6,39.3,39.2,39.2,39.5,39.5,39.2,38.8,38.4,38.2,38.2,38.4,39.2,40.4,41.5,42.6,43.6,44.3,44.6,44.7,44.3,43.4,42.1,40.9,39.9,39.0,38.3,37.8,37.4,37.1,36.4,35.9,35.5,35.6,36.0,36.7,38.0,39.8,41.6,43.1,44.5,45.5,46.0,46.0,45.5,44.3,42.5,41.0,39.9,39.1,38.2]}}\u001b[0m\n",
      "\n",
      "\u001b[1m> Finished chain.\u001b[0m\n"
     ]
    },
    {
     "data": {
      "text/plain": [
       "' The current temperature in Munich, Germany is 56.9 degrees Fahrenheit. This information was obtained from the API url: https://api.open-meteo.com/v1/forecast?latitude=48.1351&longitude=11.5820&hourly=temperature_2m&current_weather=true&temperature_unit=fahrenheit&timezone=auto.'"
      ]
     },
     "execution_count": 6,
     "metadata": {},
     "output_type": "execute_result"
    }
   ],
   "source": [
    "from langchain.chains import APIChain\n",
    "from langchain.chains.api import open_meteo_docs\n",
    "from langchain.llms import OpenAI\n",
    "\n",
    "llm = OpenAI(temperature=0, model=\"gpt-3.5-turbo-instruct\")\n",
    "chain = APIChain.from_llm_and_api_docs(\n",
    "    llm,\n",
    "    open_meteo_docs.OPEN_METEO_DOCS,\n",
    "    verbose=True,\n",
    "    limit_to_domains=[\"https://api.open-meteo.com/\"],\n",
    ")\n",
    "chain.run(\n",
    "    \"What is the weather like right now in Munich, Germany in degrees Fahrenheit?\"\n",
    ")"
   ]
  },
  {
   "attachments": {},
   "cell_type": "markdown",
   "metadata": {},
   "source": [
    "**Web requests**\n",
    "\n",
    "URL requests are such a common use-case that we have the `LLMRequestsChain`, which makes an HTTP GET request. "
   ]
  },
  {
   "cell_type": "code",
   "execution_count": 10,
   "metadata": {},
   "outputs": [],
   "source": [
    "from langchain.chains import LLMChain, LLMRequestsChain\n",
    "from langchain.prompts import PromptTemplate\n",
    "from langchain.llms import OpenAI"
   ]
  },
  {
   "cell_type": "code",
   "execution_count": 11,
   "metadata": {},
   "outputs": [],
   "source": [
    "template = \"\"\"Between >>> and <<< are the raw search result text from google.\n",
    "Extract the answer to the question '{query}' or say \"not found\" if the information is not contained.\n",
    "Use the format\n",
    "Extracted:<answer or \"not found\">\n",
    ">>> {requests_result} <<<\n",
    "Extracted:\"\"\"\n",
    "\n",
    "PROMPT = PromptTemplate(\n",
    "    input_variables=[\"query\", \"requests_result\"],\n",
    "    template=template,\n",
    ")\n"
   ]
  },
  {
   "cell_type": "code",
   "execution_count": 14,
   "metadata": {},
   "outputs": [
    {
     "data": {
      "text/plain": [
       "{'query': 'What are the Three (3) biggest countries, and their respective sizes?',\n",
       " 'url': 'https://www.google.com/search?q=What+are+the+Three+(3)+biggest+countries,+and+their+respective+sizes?',\n",
       " 'output': '1. Russia - 17,098,242 km\\n2. Canada - 9,984,670 km\\n3. United States - 9,826,675 km'}"
      ]
     },
     "execution_count": 14,
     "metadata": {},
     "output_type": "execute_result"
    }
   ],
   "source": [
    "chain = LLMRequestsChain(llm_chain=LLMChain(llm=OpenAI(temperature=0, model=\"gpt-3.5-turbo-instruct\"), prompt=PROMPT))\n",
    "question = \"What are the Three (3) biggest countries, and their respective sizes?\"\n",
    "inputs = {\n",
    "    \"query\": question,\n",
    "    \"url\": \"https://www.google.com/search?q=\" + question.replace(\" \", \"+\"),\n",
    "}\n",
    "chain(inputs)"
   ]
  }
 ],
 "metadata": {
  "kernelspec": {
   "display_name": "langchain_tutorial",
   "language": "python",
   "name": "python3"
  },
  "language_info": {
   "codemirror_mode": {
    "name": "ipython",
    "version": 3
   },
   "file_extension": ".py",
   "mimetype": "text/x-python",
   "name": "python",
   "nbconvert_exporter": "python",
   "pygments_lexer": "ipython3",
   "version": "3.11.8"
  },
  "orig_nbformat": 4
 },
 "nbformat": 4,
 "nbformat_minor": 2
}
