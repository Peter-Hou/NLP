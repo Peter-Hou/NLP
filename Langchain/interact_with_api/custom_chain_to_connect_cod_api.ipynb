{
 "cells": [
  {
   "attachments": {},
   "cell_type": "markdown",
   "metadata": {},
   "source": [
    "# ReadMe\n",
    "\n",
    "The code is inspired by [article](https://towardsdatascience.com/integrating-an-external-api-with-a-chatbot-application-using-langchain-and-chainlit-b687bb1efe58)\n",
    "\n"
   ]
  },
  {
   "cell_type": "code",
   "execution_count": 1,
   "metadata": {},
   "outputs": [
    {
     "name": "stdout",
     "output_type": "stream",
     "text": [
      "2024-04-15 21:55:21 - Loaded .env file\n"
     ]
    },
    {
     "data": {
      "text/plain": [
       "True"
      ]
     },
     "execution_count": 1,
     "metadata": {},
     "output_type": "execute_result"
    }
   ],
   "source": [
    "import chainlit as cl\n",
    "from langchain.llms import OpenAI\n",
    "from langchain.chains import LLMChain, APIChain\n",
    "from langchain.memory.buffer import ConversationBufferMemory\n",
    "from dotenv import load_dotenv\n",
    "\n",
    "load_dotenv()"
   ]
  },
  {
   "cell_type": "code",
   "execution_count": 2,
   "metadata": {},
   "outputs": [],
   "source": [
    "from test_api_docs import api_docs\n",
    "from langchain.prompts import PromptTemplate"
   ]
  },
  {
   "cell_type": "code",
   "execution_count": 28,
   "metadata": {},
   "outputs": [],
   "source": [
    "api_url_template = \"\"\"\n",
    "Given the following API Documentation for Material Platform's\n",
    "API: {api_docs}\n",
    "Your task is to construct the most efficient API URL to answer \n",
    "the user's question, ensuring the \n",
    "call is optimized to include only necessary information.\n",
    "Question: {question}\n",
    "API URL:\n",
    "\"\"\"\n",
    "api_url_prompt = PromptTemplate(input_variables=['api_docs', 'question'],\n",
    "                                template=api_url_template)\n",
    "\n",
    "api_response_template = \"\"\"\"\n",
    "With the API Documentation for Material Platform's official API: {api_docs} \n",
    "and the specific user question: {question} in mind,\n",
    "and given this API URL: {api_url} for querying, here is the \n",
    "response from Material Platform's API: {api_response}. \n",
    "Please provide a summary that directly addresses the user's question, \n",
    "omitting technical details like response format, and \n",
    "focusing on delivering the answer with clarity and conciseness, \n",
    "as if the scientists are providing this information.\n",
    "Summary:\n",
    "\"\"\"\n",
    "api_response_prompt = PromptTemplate(input_variables=['api_docs', \n",
    "                                                      'question', \n",
    "                                                      'api_url',\n",
    "                                                      'api_response'],\n",
    "                                     template=api_response_template)"
   ]
  },
  {
   "cell_type": "code",
   "execution_count": 29,
   "metadata": {},
   "outputs": [],
   "source": [
    "llm = OpenAI(model='gpt-3.5-turbo-instruct',\n",
    "             temperature=0)\n",
    "\n",
    "api_chain = APIChain.from_llm_and_api_docs(\n",
    "        headers={\"Key\":\"Pl3n9ks3ozRiShHuezCmDqe2YEHhZbdq2rfpbB4ify42kfjX\"},\n",
    "        llm=llm,\n",
    "        api_docs=api_docs,\n",
    "        api_url_prompt=api_url_prompt,\n",
    "        api_response_prompt=api_response_prompt,\n",
    "        verbose=True,\n",
    "        limit_to_domains=[\"https://www.crystallography.net/cod/result\"]\n",
    "    )"
   ]
  },
  {
   "cell_type": "code",
   "execution_count": 25,
   "metadata": {},
   "outputs": [
    {
     "name": "stdout",
     "output_type": "stream",
     "text": [
      "\n",
      "\n",
      "\u001b[1m> Entering new APIChain chain...\u001b[0m\n",
      "\u001b[32;1m\u001b[1;3mhttps://api.mpds.io/v0/download/facet?q={'elements':'Ag-K'}\u001b[0m\n",
      "\u001b[33;1m\u001b[1;3m{\"error\":\"Error: request parameters were not understood.\"}\u001b[0m\n",
      "\n",
      "\u001b[1m> Finished chain.\u001b[0m\n"
     ]
    },
    {
     "data": {
      "text/plain": [
       "\"\\nTo query for data on the elements Ag and K, use the following API URL: https://api.mpds.io/v0/download/facet?q={'elements':'Ag-K'}. This will return information on materials containing both Ag and K. Make sure to include a backslash before each curly bracket in the JSON object.\""
      ]
     },
     "execution_count": 25,
     "metadata": {},
     "output_type": "execute_result"
    }
   ],
   "source": [
    "api_chain.run(\"Give me an example of element Ag-K\")"
   ]
  },
  {
   "cell_type": "code",
   "execution_count": null,
   "metadata": {},
   "outputs": [],
   "source": []
  }
 ],
 "metadata": {
  "kernelspec": {
   "display_name": "langchain_tutorial",
   "language": "python",
   "name": "python3"
  },
  "language_info": {
   "codemirror_mode": {
    "name": "ipython",
    "version": 3
   },
   "file_extension": ".py",
   "mimetype": "text/x-python",
   "name": "python",
   "nbconvert_exporter": "python",
   "pygments_lexer": "ipython3",
   "version": "3.11.8"
  },
  "orig_nbformat": 4
 },
 "nbformat": 4,
 "nbformat_minor": 2
}
