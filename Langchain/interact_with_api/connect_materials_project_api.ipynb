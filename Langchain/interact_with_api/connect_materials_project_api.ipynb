{
 "cells": [
  {
   "attachments": {},
   "cell_type": "markdown",
   "metadata": {},
   "source": [
    "# ReadMe\n",
    "\n",
    "This notebook is to connect and experiment with materials project [api](https://api.materialsproject.org/docs#/Materials%20Thermo/search_materials_thermo_phase_diagram__get)"
   ]
  },
  {
   "cell_type": "code",
   "execution_count": 30,
   "metadata": {},
   "outputs": [
    {
     "data": {
      "text/plain": [
       "True"
      ]
     },
     "execution_count": 30,
     "metadata": {},
     "output_type": "execute_result"
    }
   ],
   "source": [
    "import chainlit as cl\n",
    "from langchain.llms import OpenAI\n",
    "from langchain.chains import LLMChain, APIChain\n",
    "from langchain.memory.buffer import ConversationBufferMemory\n",
    "from dotenv import load_dotenv\n",
    "\n",
    "load_dotenv()"
   ]
  },
  {
   "cell_type": "code",
   "execution_count": 31,
   "metadata": {},
   "outputs": [],
   "source": [
    "from typing import Any, Dict, List, Optional, Sequence, Tuple\n",
    "from urllib.parse import urlparse\n",
    "\n",
    "from langchain_community.utilities.requests import TextRequestsWrapper\n",
    "from langchain_core.callbacks import (\n",
    "    AsyncCallbackManagerForChainRun,\n",
    "    CallbackManagerForChainRun,\n",
    ")\n",
    "from langchain_core.language_models import BaseLanguageModel\n",
    "from langchain_core.prompts import BasePromptTemplate\n",
    "from langchain_core.pydantic_v1 import Field, root_validator\n",
    "\n",
    "from langchain.chains.api.prompt import API_RESPONSE_PROMPT, API_URL_PROMPT\n",
    "from langchain.chains.base import Chain\n",
    "from langchain.chains.llm import LLMChain"
   ]
  },
  {
   "cell_type": "code",
   "execution_count": 33,
   "metadata": {},
   "outputs": [],
   "source": [
    "from api_docs.materials_project_doc import material_api_docs\n",
    "from langchain.prompts import PromptTemplate"
   ]
  },
  {
   "cell_type": "code",
   "execution_count": 85,
   "metadata": {},
   "outputs": [],
   "source": [
    "api_url_template = \"\"\"\n",
    "Given the following API Documentation for Material Project's\n",
    "API: {api_docs}\n",
    "Your task is to construct the most efficient API URL to answer \n",
    "the user's question, ensuring the \n",
    "call is optimized to include only necessary information.\n",
    "Question: {question} with license=\"BY-C\" and _limit=10\n",
    "API URL:\n",
    "\"\"\"\n",
    "api_url_prompt = PromptTemplate(input_variables=['api_docs', 'question'],\n",
    "                                template=api_url_template)\n"
   ]
  },
  {
   "cell_type": "code",
   "execution_count": 94,
   "metadata": {},
   "outputs": [],
   "source": [
    "api_response_template = \"\"\"\"\n",
    "With the API Documentation for Material Platform's official API: {api_docs} \n",
    "and the user question: {question} in mind,\n",
    "and given this API URL: {api_url} for querying, here is the \n",
    "response from Material Project's API: {api_response}. \n",
    "Please provide a summary that directly addresses the user's question based on the response, \n",
    "omitting technical details like response format, and \n",
    "focusing on delivering the answer with clarity and conciseness, \n",
    "as if a material scientist is providing this information.\n",
    "Summary:\n",
    "\"\"\"\n",
    "\n",
    "api_response_prompt = PromptTemplate(input_variables=['api_docs',\n",
    "                                                      'question', \n",
    "                                                      'api_url',\n",
    "                                                      'api_response'],\n",
    "                                     template=api_response_template)"
   ]
  },
  {
   "cell_type": "code",
   "execution_count": 95,
   "metadata": {},
   "outputs": [],
   "source": [
    "llm = OpenAI(model='gpt-3.5-turbo-instruct',\n",
    "             temperature=0)"
   ]
  },
  {
   "cell_type": "code",
   "execution_count": 96,
   "metadata": {},
   "outputs": [],
   "source": [
    "api_chain = APIChain.from_llm_and_api_docs(\n",
    "        headers={'X-API-KEY': 'cHlaLNDodbKlfGkbYUQwCkOzE6GK8zdD'},\n",
    "        llm=llm,\n",
    "        api_docs=material_api_docs,\n",
    "        api_url_prompt=api_url_prompt,\n",
    "        api_response_prompt=api_response_prompt,\n",
    "        verbose=True,\n",
    "        limit_to_domains=[\"https://api.materialsproject.org/materials/core/\"]\n",
    "    )"
   ]
  },
  {
   "cell_type": "code",
   "execution_count": 97,
   "metadata": {},
   "outputs": [
    {
     "name": "stdout",
     "output_type": "stream",
     "text": [
      "\n",
      "\n",
      "\u001b[1m> Entering new APIChain chain...\u001b[0m\n",
      "\u001b[32;1m\u001b[1;3mhttps://api.materialsproject.org/materials/core/?formula=TiO2&license=BY-C&_limit=10\u001b[0m\n",
      "\u001b[33;1m\u001b[1;3m{\"data\":[{\"formula_pretty\":\"TiO2\",\"material_id\":\"mp-572822\",\"last_updated\":\"2021-02-15T21:42:53.920000\"},{\"formula_pretty\":\"TiO2\",\"material_id\":\"mp-1245134\",\"last_updated\":\"2021-02-06T06:45:27.105000\"},{\"formula_pretty\":\"TiO2\",\"material_id\":\"mp-1350429\",\"last_updated\":\"2021-02-10T12:13:15.751000\"},{\"formula_pretty\":\"TiO2\",\"material_id\":\"mp-777129\",\"last_updated\":\"2021-02-16T19:01:11.722000\"},{\"formula_pretty\":\"TiO2\",\"material_id\":\"mp-554278\",\"last_updated\":\"2023-10-08T13:05:51.760000\"},{\"formula_pretty\":\"TiO2\",\"material_id\":\"mp-1245321\",\"last_updated\":\"2021-02-05T12:43:10.024000\"},{\"formula_pretty\":\"TiO2\",\"material_id\":\"mp-1245308\",\"last_updated\":\"2021-02-05T14:50:26.120000\"},{\"formula_pretty\":\"TiO2\",\"material_id\":\"mp-775938\",\"last_updated\":\"2021-03-06T00:24:01.692000\"},{\"formula_pretty\":\"TiO2\",\"material_id\":\"mp-1840\",\"last_updated\":\"2023-10-07T06:05:01.300000\"},{\"formula_pretty\":\"TiO2\",\"material_id\":\"mp-1439\",\"last_updated\":\"2023-10-07T20:34:51.147000\"}],\"meta\":{\"api_version\":\"0.64.0\",\"time_stamp\":\"2024-04-17T02:31:22.429602\",\"total_doc\":44,\"max_limit\":1000,\"default_fields\":[\"material_id\",\"formula_pretty\",\"last_updated\"]}}\u001b[0m\n",
      "\n",
      "\u001b[1m> Finished chain.\u001b[0m\n"
     ]
    },
    {
     "data": {
      "text/plain": [
       "\"\\nThe Material Project's API provides a list of 10 relevant materials for TiO2, including their material IDs, formula, and last updated date. These materials have a license of BY-C, indicating they are available for non-commercial use. The API also includes information on the total number of materials available for TiO2 and the maximum limit for results.\""
      ]
     },
     "execution_count": 97,
     "metadata": {},
     "output_type": "execute_result"
    }
   ],
   "source": [
    "api_chain.run(\"List me everything relevant to TiO2\")"
   ]
  }
 ],
 "metadata": {
  "kernelspec": {
   "display_name": "langchain_tutorial",
   "language": "python",
   "name": "python3"
  },
  "language_info": {
   "codemirror_mode": {
    "name": "ipython",
    "version": 3
   },
   "file_extension": ".py",
   "mimetype": "text/x-python",
   "name": "python",
   "nbconvert_exporter": "python",
   "pygments_lexer": "ipython3",
   "version": "3.11.8"
  },
  "orig_nbformat": 4
 },
 "nbformat": 4,
 "nbformat_minor": 2
}
